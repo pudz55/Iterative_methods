{
 "cells": [
  {
   "cell_type": "code",
   "execution_count": 47,
   "id": "9695d346",
   "metadata": {},
   "outputs": [],
   "source": [
    "#import statements\n",
    "import numpy as np"
   ]
  },
  {
   "cell_type": "code",
   "execution_count": 117,
   "id": "c70312fc",
   "metadata": {},
   "outputs": [
    {
     "name": "stdout",
     "output_type": "stream",
     "text": [
      "Jacobi iterative method\n",
      " count,    u1,    u2,    u3,    u4,    u5,    u6\n",
      "1, 0.8333, 0.5000, 0.3333, 0.3333, 0.5000, 0.8333\n",
      "2, 0.8333, 0.5000, 0.3333, 0.3333, 0.5000, 0.8333\n",
      "\n",
      "Solution: u1 = 0.833, u2 = 0.500 and u3 = 0.333, u4 = 0.333, u5 = 0.500, u6 = 0.833\n",
      "\n"
     ]
    }
   ],
   "source": [
    "## Jacobi method equation\n",
    "u1 = 0\n",
    "u2 = 0\n",
    "u3 = 0\n",
    "u4 = 0\n",
    "u5 = 0\n",
    "u6 = 0\n",
    "N = 100\n",
    "\n",
    "TOL = 0.01\n",
    "\n",
    "\n",
    "x_p = np.array([u1, u2, u3, u4, u5, u6])\n",
    "\n",
    "print('Jacobi iterative method')\n",
    "print(' count,    u1,    u2,    u3,    u4,    u5,    u6')\n",
    "\n",
    "for k in range(1, N):\n",
    "    d = (5-u6+2*u2)/6\n",
    "    e = (3+2*u1+2*u3-u5)/6\n",
    "    f = (1+u2+u4)/3\n",
    "    g = (1+u3+u5)/3\n",
    "    h = (3-u2+2*u4+2*u6)/6\n",
    "    i = (5-u1+2*u5)/6\n",
    "    x = np.array([d, e, f, g, h, i])\n",
    "\n",
    "    \n",
    "    print(\"%d, %.4f, %.4f, %.4f, %.4f, %.4f, %.4f\"%(k, d, e, f, g, h, i))\n",
    "    u = abs(x-x_p)\n",
    "    tr = np.sqrt(np.dot(u, u))\n",
    "    if tr <= tol:\n",
    "        converged = True\n",
    "        print('\\nSolution: u1 = %0.3f, u2 = %0.3f and u3 = %0.3f, u4 = %0.3f, u5 = %0.3f, u6 = %0.3f\\n'% (d,e,f,g,h,i))\n",
    "        break\n",
    "    \n",
    "    x_p = x\n",
    "\n",
    "else:\n",
    "    print('solution cannot be found with the given iterations, increase the iterations')"
   ]
  },
  {
   "cell_type": "code",
   "execution_count": 115,
   "id": "cb6c786f",
   "metadata": {},
   "outputs": [
    {
     "name": "stdout",
     "output_type": "stream",
     "text": [
      "Gauss-seidel iterative method\n",
      " count,    u1,    u2,    u3,    u4,    u5,    u6\n",
      "1, 0.8333, 0.7778, 0.5926, 0.5309, 0.5473, 0.8769\n",
      "2, 0.9464, 0.9218, 0.8176, 0.7883, 0.9014, 0.9761\n",
      "3, 0.9779, 0.9483, 0.9122, 0.9379, 0.9799, 0.9970\n",
      "4, 0.9833, 0.9685, 0.9688, 0.9829, 0.9986, 1.0023\n",
      "5, 0.9891, 0.9862, 0.9897, 0.9961, 1.0018, 1.0024\n",
      "6, 0.9950, 0.9946, 0.9969, 0.9996, 1.0016, 1.0013\n",
      "7, 0.9980, 0.9980, 0.9992, 1.0002, 1.0009, 1.0006\n",
      "\n",
      "Solution: u1 = 0.998, u2 = 0.998 and u3 = 0.999, u4 = 1.000, u5 = 1.001, u6 = 1.001\n",
      "\n"
     ]
    }
   ],
   "source": [
    "## gauss seidel equation\n",
    "u1 = 0\n",
    "u2 = 0\n",
    "u3 = 0\n",
    "u4 = 0\n",
    "u5 = 0\n",
    "u6 = 0\n",
    "N = 100\n",
    "\n",
    "TOL = 0.01\n",
    "\n",
    "x_p = np.array([u1, u2, u3, u4, u5, u6])\n",
    "\n",
    "print('Gauss-seidel iterative method')\n",
    "print(' count,    u1,    u2,    u3,    u4,    u5,    u6')\n",
    "\n",
    "for k in range(1, N):\n",
    "    u1 = (5-u6+2*u2)/6\n",
    "    u2 = (3+2*u1+2*u3-u5)/6\n",
    "    u3 = (1+u2+u4)/3\n",
    "    u4 = (1+u3+u5)/3\n",
    "    u5 = (3-u2+2*u4+2*u6)/6\n",
    "    u6 = (5-u1+2*u5)/6\n",
    "    x = np.array([u1, u2, u3, u4, u5, u6])\n",
    "\n",
    "    \n",
    "    print(\"%d, %.4f, %.4f, %.4f, %.4f, %.4f, %.4f\"%(k, u1, u2, u3, u4, u5, u6))\n",
    "    u = abs(x-x_p)\n",
    "    tr = np.sqrt(np.dot(u, u)) \n",
    "    if tr <= tol:\n",
    "        converged = True\n",
    "        print('\\nSolution: u1 = %0.3f, u2 = %0.3f and u3 = %0.3f, u4 = %0.3f, u5 = %0.3f, u6 = %0.3f\\n'% (u1,u2,u3,u4,u5,u6))\n",
    "        break\n",
    "    \n",
    "    x_p = x\n",
    "\n",
    "else:\n",
    "    print('solution cannot be found with the given iterations, increase the iterations')"
   ]
  },
  {
   "cell_type": "code",
   "execution_count": 116,
   "id": "16f1f824",
   "metadata": {},
   "outputs": [
    {
     "name": "stdout",
     "output_type": "stream",
     "text": [
      "SOR iterative method\n",
      " count,    u1,    u2,    u3,    u4,    u5,    u6\n",
      "1, 0.9167, 0.8861, 0.6916, 0.6202, 0.6150, 0.9741\n",
      "2, 0.9713, 0.9584, 0.8763, 0.8515, 0.9822, 1.0013\n",
      "3, 0.9874, 0.9575, 0.9423, 0.9872, 1.0054, 1.0041\n",
      "4, 0.9849, 0.9766, 0.9925, 1.0005, 1.0055, 1.0044\n",
      "5, 0.9921, 0.9957, 0.9994, 1.0017, 1.0025, 1.0019\n",
      "6, 0.9989, 0.9993, 1.0004, 1.0009, 1.0009, 1.0004\n",
      "\n",
      "Solution: u1 = 0.999, u2 = 0.999 and u3 = 1.000, u4 = 1.001, u5 = 1.001, u6 = 1.000\n",
      "\n"
     ]
    }
   ],
   "source": [
    "## SOR iterative method\n",
    "u1 = 0\n",
    "u2 = 0\n",
    "u3 = 0\n",
    "u4 = 0\n",
    "u5 = 0\n",
    "u6 = 0\n",
    "N = 100\n",
    "w = 1.1\n",
    "\n",
    "TOL = 0.01\n",
    "\n",
    "x_p = np.array([u1, u2, u3, u4, u5, u6])\n",
    "\n",
    "print('SOR iterative method')\n",
    "print(' count,    u1,    u2,    u3,    u4,    u5,    u6')\n",
    "\n",
    "for k in range(1, N):\n",
    "    u1 = (1-w)*u1+w*((5-u6+2*u2)/6)\n",
    "    u2 = (1-w)*u2+w*((3+2*u1+2*u3-u5)/6)\n",
    "    u3 = (1-w)*u3+w*((1+u2+u4)/3)\n",
    "    u4 = (1-w)*u4+w*((1+u3+u5)/3)\n",
    "    u5 = (1-w)*u5+w*((3-u2+2*u4+2*u6)/6)\n",
    "    u6 = (1-w)*u6+w*((5-u1+2*u5)/6)\n",
    "    x = np.array([u1, u2, u3, u4, u5, u6])\n",
    "\n",
    "    u = abs(x-x_p)\n",
    "    tr = np.sqrt(np.dot(u, u)) \n",
    "     \n",
    "    print(\"%d, %.4f, %.4f, %.4f, %.4f, %.4f, %.4f\"%(k, u1, u2, u3, u4, u5, u6))\n",
    "    if tr <= tol:\n",
    "        print('\\nSolution: u1 = %0.3f, u2 = %0.3f and u3 = %0.3f, u4 = %0.3f, u5 = %0.3f, u6 = %0.3f\\n'% (u1,u2,u3,u4,u5,u6))\n",
    "        break\n",
    "\n",
    "    x_p = x\n",
    "\n",
    "else:\n",
    "    print('solution cannot be found with the given iterations, increase the iterations')"
   ]
  },
  {
   "cell_type": "code",
   "execution_count": null,
   "id": "8b8b44b4",
   "metadata": {},
   "outputs": [],
   "source": []
  }
 ],
 "metadata": {
  "kernelspec": {
   "display_name": "Python 3 (ipykernel)",
   "language": "python",
   "name": "python3"
  },
  "language_info": {
   "codemirror_mode": {
    "name": "ipython",
    "version": 3
   },
   "file_extension": ".py",
   "mimetype": "text/x-python",
   "name": "python",
   "nbconvert_exporter": "python",
   "pygments_lexer": "ipython3",
   "version": "3.9.7"
  }
 },
 "nbformat": 4,
 "nbformat_minor": 5
}
